{
  "nbformat": 4,
  "nbformat_minor": 0,
  "metadata": {
    "colab": {
      "provenance": []
    },
    "kernelspec": {
      "name": "python3",
      "display_name": "Python 3"
    },
    "language_info": {
      "name": "python"
    }
  },
  "cells": [
    {
      "cell_type": "markdown",
      "source": [
        "# Retrieving Chicago Public Schools Data"
      ],
      "metadata": {
        "id": "bNDKMQJ7morT"
      }
    },
    {
      "cell_type": "markdown",
      "source": [
        "## About the Data"
      ],
      "metadata": {
        "id": "actKoSwDnBki"
      }
    },
    {
      "cell_type": "markdown",
      "source": [
        "The city of Chicago released a dataset showing all school level performance data used to create School Report Cards for the 2011-2012 school year. The dataset is available from the Chicago Data Portal: https://data.cityofchicago.org/Education/Chicago-Public-Schools-Progress-Report-Cards-2011-/9xs2-f89t"
      ],
      "metadata": {
        "id": "wZSoDI-0nF27"
      }
    },
    {
      "cell_type": "markdown",
      "source": [
        "## Set up"
      ],
      "metadata": {
        "id": "XoK1jnxbnaMK"
      }
    },
    {
      "cell_type": "markdown",
      "source": [
        "We first set up the necessary libraries, the SQL extension, and the database for querying."
      ],
      "metadata": {
        "id": "H7hdd9MnnoyH"
      }
    },
    {
      "cell_type": "code",
      "execution_count": 1,
      "metadata": {
        "id": "OV5ouOOiky9_"
      },
      "outputs": [],
      "source": [
        "import pandas, csv, sqlite3\n",
        "\n",
        "con = sqlite3.connect(\"ChicagoPublicSchool.db\")\n",
        "cur = con.cursor()\n",
        "\n",
        "%load_ext sql\n",
        "%sql sqlite:///ChicagoPublicSchool.db"
      ]
    },
    {
      "cell_type": "markdown",
      "source": [
        "Here, we read the .CSV file using `pandas` and then import the data into the database as a table. The output given is the number of rows in the table."
      ],
      "metadata": {
        "id": "ngxdGQucn_Ua"
      }
    },
    {
      "cell_type": "code",
      "source": [
        "df = pandas.read_csv(\"https://data.cityofchicago.org/resource/9xs2-f89t.csv\")\n",
        "df.to_sql(\"report_card_data\", con, if_exists='replace', index=False, method=\"multi\")"
      ],
      "metadata": {
        "colab": {
          "base_uri": "https://localhost:8080/"
        },
        "id": "-axssoeMlCGz",
        "outputId": "b0b62f3d-cea7-4236-eeef-68508f5e30c3"
      },
      "execution_count": 2,
      "outputs": [
        {
          "output_type": "execute_result",
          "data": {
            "text/plain": [
              "566"
            ]
          },
          "metadata": {},
          "execution_count": 2
        }
      ]
    },
    {
      "cell_type": "markdown",
      "source": [
        "Let's retrieve a list of tables to make sure the table import was successful."
      ],
      "metadata": {
        "id": "-bacII6dojXn"
      }
    },
    {
      "cell_type": "code",
      "source": [
        "%sql SELECT name FROM sqlite_master WHERE type='table'"
      ],
      "metadata": {
        "colab": {
          "base_uri": "https://localhost:8080/",
          "height": 96
        },
        "id": "GV2BH-NrlKKJ",
        "outputId": "770779f5-2e4f-4e56-ecd8-009b45711764"
      },
      "execution_count": 3,
      "outputs": [
        {
          "output_type": "stream",
          "name": "stdout",
          "text": [
            " * sqlite:///ChicagoPublicSchool.db\n",
            "Done.\n"
          ]
        },
        {
          "output_type": "execute_result",
          "data": {
            "text/plain": [
              "[('report_card_data',)]"
            ],
            "text/html": [
              "<table>\n",
              "    <thead>\n",
              "        <tr>\n",
              "            <th>name</th>\n",
              "        </tr>\n",
              "    </thead>\n",
              "    <tbody>\n",
              "        <tr>\n",
              "            <td>report_card_data</td>\n",
              "        </tr>\n",
              "    </tbody>\n",
              "</table>"
            ]
          },
          "metadata": {},
          "execution_count": 3
        }
      ]
    },
    {
      "cell_type": "markdown",
      "source": [
        "## Attributes of the Table"
      ],
      "metadata": {
        "id": "E20e5lh4oxqe"
      }
    },
    {
      "cell_type": "markdown",
      "source": [
        "We now retrieve the number of columns and the list of all columns with their corresponding data type."
      ],
      "metadata": {
        "id": "rZ8TKZKFpCBz"
      }
    },
    {
      "cell_type": "code",
      "source": [
        "%sql SELECT count(name) FROM PRAGMA_TABLE_INFO('report_card_data')"
      ],
      "metadata": {
        "colab": {
          "base_uri": "https://localhost:8080/",
          "height": 96
        },
        "id": "1-WUqIi-lYMP",
        "outputId": "f381cfdd-42f1-459e-ef3b-075dda7d6f78"
      },
      "execution_count": 4,
      "outputs": [
        {
          "output_type": "stream",
          "name": "stdout",
          "text": [
            " * sqlite:///ChicagoPublicSchool.db\n",
            "Done.\n"
          ]
        },
        {
          "output_type": "execute_result",
          "data": {
            "text/plain": [
              "[(79,)]"
            ],
            "text/html": [
              "<table>\n",
              "    <thead>\n",
              "        <tr>\n",
              "            <th>count(name)</th>\n",
              "        </tr>\n",
              "    </thead>\n",
              "    <tbody>\n",
              "        <tr>\n",
              "            <td>79</td>\n",
              "        </tr>\n",
              "    </tbody>\n",
              "</table>"
            ]
          },
          "metadata": {},
          "execution_count": 4
        }
      ]
    },
    {
      "cell_type": "code",
      "source": [
        "%sql SELECT name,type FROM PRAGMA_TABLE_INFO('report_card_data')"
      ],
      "metadata": {
        "colab": {
          "base_uri": "https://localhost:8080/",
          "height": 1000
        },
        "id": "0ew1pGIzliwU",
        "outputId": "c370755a-b5f1-4863-ed0a-20429d99da0c"
      },
      "execution_count": 5,
      "outputs": [
        {
          "output_type": "stream",
          "name": "stdout",
          "text": [
            " * sqlite:///ChicagoPublicSchool.db\n",
            "Done.\n"
          ]
        },
        {
          "output_type": "execute_result",
          "data": {
            "text/plain": [
              "[('school_id', 'INTEGER'),\n",
              " ('name_of_school', 'TEXT'),\n",
              " ('elementary_or_high_school', 'TEXT'),\n",
              " ('street_address', 'TEXT'),\n",
              " ('city', 'TEXT'),\n",
              " ('state', 'TEXT'),\n",
              " ('zip_code', 'INTEGER'),\n",
              " ('phone_number', 'TEXT'),\n",
              " ('link_', 'TEXT'),\n",
              " ('network_manager', 'TEXT'),\n",
              " ('collaborative_name', 'TEXT'),\n",
              " ('adequate_yearly_progress_made_', 'TEXT'),\n",
              " ('track_schedule', 'TEXT'),\n",
              " ('cps_performance_policy_status', 'TEXT'),\n",
              " ('cps_performance_policy_level', 'TEXT'),\n",
              " ('healthy_schools_certified_', 'TEXT'),\n",
              " ('safety_icon_', 'TEXT'),\n",
              " ('safety_score', 'REAL'),\n",
              " ('family_involvement_icon', 'TEXT'),\n",
              " ('family_involvement_score', 'TEXT'),\n",
              " ('environment_icon_', 'TEXT'),\n",
              " ('environment_score', 'REAL'),\n",
              " ('instruction_icon_', 'TEXT'),\n",
              " ('instruction_score', 'REAL'),\n",
              " ('leaders_icon_', 'TEXT'),\n",
              " ('leaders_score_', 'TEXT'),\n",
              " ('teachers_icon_', 'TEXT'),\n",
              " ('teachers_score', 'TEXT'),\n",
              " ('parent_engagement_icon_', 'TEXT'),\n",
              " ('parent_engagement_score', 'TEXT'),\n",
              " ('parent_environment_icon', 'TEXT'),\n",
              " ('parent_environment_score', 'TEXT'),\n",
              " ('average_student_attendance', 'REAL'),\n",
              " ('rate_of_misconducts_per_100_students_', 'REAL'),\n",
              " ('average_teacher_attendance', 'REAL'),\n",
              " ('individualized_education_program_compliance_rate_', 'REAL'),\n",
              " ('pk_2_literacy', 'TEXT'),\n",
              " ('pk_2_math_', 'TEXT'),\n",
              " ('gr3_5_grade_level_math', 'TEXT'),\n",
              " ('gr3_5_grade_level_read_', 'TEXT'),\n",
              " ('gr3_5_keep_pace_read_', 'TEXT'),\n",
              " ('gr3_5_keep_pace_math', 'TEXT'),\n",
              " ('gr6_8_grade_level_math', 'TEXT'),\n",
              " ('gr6_8_grade_level_read', 'TEXT'),\n",
              " ('gr6_8_keep_pace_math', 'TEXT'),\n",
              " ('gr6_8_keep_pace_read', 'TEXT'),\n",
              " ('gr_8_explore_math', 'TEXT'),\n",
              " ('gr_8_explore_read', 'TEXT'),\n",
              " ('isat_exceeding_math_', 'REAL'),\n",
              " ('isat_exceeding_reading_', 'REAL'),\n",
              " ('isat_value_add_math', 'REAL'),\n",
              " ('isat_value_add_read', 'REAL'),\n",
              " ('isat_value_add_color_math', 'TEXT'),\n",
              " ('isat_value_add_color_read', 'TEXT'),\n",
              " ('students_taking_algebra', 'TEXT'),\n",
              " ('students_passing_algebra', 'TEXT'),\n",
              " ('_th_grade_explore_2009_', 'TEXT'),\n",
              " ('_th_grade_explore_2010_', 'TEXT'),\n",
              " ('_th_grade_plan_2009_', 'TEXT'),\n",
              " ('_th_grade_plan_2010_', 'TEXT'),\n",
              " ('net_change_explore_and_plan', 'TEXT'),\n",
              " ('_th_grade_average_act_2011_', 'TEXT'),\n",
              " ('net_change_plan_and_act', 'TEXT'),\n",
              " ('college_eligibility_', 'TEXT'),\n",
              " ('graduation_rate_', 'TEXT'),\n",
              " ('college_enrollment_rate', 'TEXT'),\n",
              " ('college_enrollment_number_of_students_', 'INTEGER'),\n",
              " ('general_services_route_', 'INTEGER'),\n",
              " ('freshman_on_track_rate', 'TEXT'),\n",
              " ('rcdts_code', 'INTEGER'),\n",
              " ('x_coordinate', 'REAL'),\n",
              " ('y_coordinate', 'REAL'),\n",
              " ('latitude', 'REAL'),\n",
              " ('longitude', 'REAL'),\n",
              " ('community_area_number', 'INTEGER'),\n",
              " ('community_area_name', 'TEXT'),\n",
              " ('ward', 'INTEGER'),\n",
              " ('police_district', 'INTEGER'),\n",
              " ('location', 'TEXT')]"
            ],
            "text/html": [
              "<table>\n",
              "    <thead>\n",
              "        <tr>\n",
              "            <th>name</th>\n",
              "            <th>type</th>\n",
              "        </tr>\n",
              "    </thead>\n",
              "    <tbody>\n",
              "        <tr>\n",
              "            <td>school_id</td>\n",
              "            <td>INTEGER</td>\n",
              "        </tr>\n",
              "        <tr>\n",
              "            <td>name_of_school</td>\n",
              "            <td>TEXT</td>\n",
              "        </tr>\n",
              "        <tr>\n",
              "            <td>elementary_or_high_school</td>\n",
              "            <td>TEXT</td>\n",
              "        </tr>\n",
              "        <tr>\n",
              "            <td>street_address</td>\n",
              "            <td>TEXT</td>\n",
              "        </tr>\n",
              "        <tr>\n",
              "            <td>city</td>\n",
              "            <td>TEXT</td>\n",
              "        </tr>\n",
              "        <tr>\n",
              "            <td>state</td>\n",
              "            <td>TEXT</td>\n",
              "        </tr>\n",
              "        <tr>\n",
              "            <td>zip_code</td>\n",
              "            <td>INTEGER</td>\n",
              "        </tr>\n",
              "        <tr>\n",
              "            <td>phone_number</td>\n",
              "            <td>TEXT</td>\n",
              "        </tr>\n",
              "        <tr>\n",
              "            <td>link_</td>\n",
              "            <td>TEXT</td>\n",
              "        </tr>\n",
              "        <tr>\n",
              "            <td>network_manager</td>\n",
              "            <td>TEXT</td>\n",
              "        </tr>\n",
              "        <tr>\n",
              "            <td>collaborative_name</td>\n",
              "            <td>TEXT</td>\n",
              "        </tr>\n",
              "        <tr>\n",
              "            <td>adequate_yearly_progress_made_</td>\n",
              "            <td>TEXT</td>\n",
              "        </tr>\n",
              "        <tr>\n",
              "            <td>track_schedule</td>\n",
              "            <td>TEXT</td>\n",
              "        </tr>\n",
              "        <tr>\n",
              "            <td>cps_performance_policy_status</td>\n",
              "            <td>TEXT</td>\n",
              "        </tr>\n",
              "        <tr>\n",
              "            <td>cps_performance_policy_level</td>\n",
              "            <td>TEXT</td>\n",
              "        </tr>\n",
              "        <tr>\n",
              "            <td>healthy_schools_certified_</td>\n",
              "            <td>TEXT</td>\n",
              "        </tr>\n",
              "        <tr>\n",
              "            <td>safety_icon_</td>\n",
              "            <td>TEXT</td>\n",
              "        </tr>\n",
              "        <tr>\n",
              "            <td>safety_score</td>\n",
              "            <td>REAL</td>\n",
              "        </tr>\n",
              "        <tr>\n",
              "            <td>family_involvement_icon</td>\n",
              "            <td>TEXT</td>\n",
              "        </tr>\n",
              "        <tr>\n",
              "            <td>family_involvement_score</td>\n",
              "            <td>TEXT</td>\n",
              "        </tr>\n",
              "        <tr>\n",
              "            <td>environment_icon_</td>\n",
              "            <td>TEXT</td>\n",
              "        </tr>\n",
              "        <tr>\n",
              "            <td>environment_score</td>\n",
              "            <td>REAL</td>\n",
              "        </tr>\n",
              "        <tr>\n",
              "            <td>instruction_icon_</td>\n",
              "            <td>TEXT</td>\n",
              "        </tr>\n",
              "        <tr>\n",
              "            <td>instruction_score</td>\n",
              "            <td>REAL</td>\n",
              "        </tr>\n",
              "        <tr>\n",
              "            <td>leaders_icon_</td>\n",
              "            <td>TEXT</td>\n",
              "        </tr>\n",
              "        <tr>\n",
              "            <td>leaders_score_</td>\n",
              "            <td>TEXT</td>\n",
              "        </tr>\n",
              "        <tr>\n",
              "            <td>teachers_icon_</td>\n",
              "            <td>TEXT</td>\n",
              "        </tr>\n",
              "        <tr>\n",
              "            <td>teachers_score</td>\n",
              "            <td>TEXT</td>\n",
              "        </tr>\n",
              "        <tr>\n",
              "            <td>parent_engagement_icon_</td>\n",
              "            <td>TEXT</td>\n",
              "        </tr>\n",
              "        <tr>\n",
              "            <td>parent_engagement_score</td>\n",
              "            <td>TEXT</td>\n",
              "        </tr>\n",
              "        <tr>\n",
              "            <td>parent_environment_icon</td>\n",
              "            <td>TEXT</td>\n",
              "        </tr>\n",
              "        <tr>\n",
              "            <td>parent_environment_score</td>\n",
              "            <td>TEXT</td>\n",
              "        </tr>\n",
              "        <tr>\n",
              "            <td>average_student_attendance</td>\n",
              "            <td>REAL</td>\n",
              "        </tr>\n",
              "        <tr>\n",
              "            <td>rate_of_misconducts_per_100_students_</td>\n",
              "            <td>REAL</td>\n",
              "        </tr>\n",
              "        <tr>\n",
              "            <td>average_teacher_attendance</td>\n",
              "            <td>REAL</td>\n",
              "        </tr>\n",
              "        <tr>\n",
              "            <td>individualized_education_program_compliance_rate_</td>\n",
              "            <td>REAL</td>\n",
              "        </tr>\n",
              "        <tr>\n",
              "            <td>pk_2_literacy</td>\n",
              "            <td>TEXT</td>\n",
              "        </tr>\n",
              "        <tr>\n",
              "            <td>pk_2_math_</td>\n",
              "            <td>TEXT</td>\n",
              "        </tr>\n",
              "        <tr>\n",
              "            <td>gr3_5_grade_level_math</td>\n",
              "            <td>TEXT</td>\n",
              "        </tr>\n",
              "        <tr>\n",
              "            <td>gr3_5_grade_level_read_</td>\n",
              "            <td>TEXT</td>\n",
              "        </tr>\n",
              "        <tr>\n",
              "            <td>gr3_5_keep_pace_read_</td>\n",
              "            <td>TEXT</td>\n",
              "        </tr>\n",
              "        <tr>\n",
              "            <td>gr3_5_keep_pace_math</td>\n",
              "            <td>TEXT</td>\n",
              "        </tr>\n",
              "        <tr>\n",
              "            <td>gr6_8_grade_level_math</td>\n",
              "            <td>TEXT</td>\n",
              "        </tr>\n",
              "        <tr>\n",
              "            <td>gr6_8_grade_level_read</td>\n",
              "            <td>TEXT</td>\n",
              "        </tr>\n",
              "        <tr>\n",
              "            <td>gr6_8_keep_pace_math</td>\n",
              "            <td>TEXT</td>\n",
              "        </tr>\n",
              "        <tr>\n",
              "            <td>gr6_8_keep_pace_read</td>\n",
              "            <td>TEXT</td>\n",
              "        </tr>\n",
              "        <tr>\n",
              "            <td>gr_8_explore_math</td>\n",
              "            <td>TEXT</td>\n",
              "        </tr>\n",
              "        <tr>\n",
              "            <td>gr_8_explore_read</td>\n",
              "            <td>TEXT</td>\n",
              "        </tr>\n",
              "        <tr>\n",
              "            <td>isat_exceeding_math_</td>\n",
              "            <td>REAL</td>\n",
              "        </tr>\n",
              "        <tr>\n",
              "            <td>isat_exceeding_reading_</td>\n",
              "            <td>REAL</td>\n",
              "        </tr>\n",
              "        <tr>\n",
              "            <td>isat_value_add_math</td>\n",
              "            <td>REAL</td>\n",
              "        </tr>\n",
              "        <tr>\n",
              "            <td>isat_value_add_read</td>\n",
              "            <td>REAL</td>\n",
              "        </tr>\n",
              "        <tr>\n",
              "            <td>isat_value_add_color_math</td>\n",
              "            <td>TEXT</td>\n",
              "        </tr>\n",
              "        <tr>\n",
              "            <td>isat_value_add_color_read</td>\n",
              "            <td>TEXT</td>\n",
              "        </tr>\n",
              "        <tr>\n",
              "            <td>students_taking_algebra</td>\n",
              "            <td>TEXT</td>\n",
              "        </tr>\n",
              "        <tr>\n",
              "            <td>students_passing_algebra</td>\n",
              "            <td>TEXT</td>\n",
              "        </tr>\n",
              "        <tr>\n",
              "            <td>_th_grade_explore_2009_</td>\n",
              "            <td>TEXT</td>\n",
              "        </tr>\n",
              "        <tr>\n",
              "            <td>_th_grade_explore_2010_</td>\n",
              "            <td>TEXT</td>\n",
              "        </tr>\n",
              "        <tr>\n",
              "            <td>_th_grade_plan_2009_</td>\n",
              "            <td>TEXT</td>\n",
              "        </tr>\n",
              "        <tr>\n",
              "            <td>_th_grade_plan_2010_</td>\n",
              "            <td>TEXT</td>\n",
              "        </tr>\n",
              "        <tr>\n",
              "            <td>net_change_explore_and_plan</td>\n",
              "            <td>TEXT</td>\n",
              "        </tr>\n",
              "        <tr>\n",
              "            <td>_th_grade_average_act_2011_</td>\n",
              "            <td>TEXT</td>\n",
              "        </tr>\n",
              "        <tr>\n",
              "            <td>net_change_plan_and_act</td>\n",
              "            <td>TEXT</td>\n",
              "        </tr>\n",
              "        <tr>\n",
              "            <td>college_eligibility_</td>\n",
              "            <td>TEXT</td>\n",
              "        </tr>\n",
              "        <tr>\n",
              "            <td>graduation_rate_</td>\n",
              "            <td>TEXT</td>\n",
              "        </tr>\n",
              "        <tr>\n",
              "            <td>college_enrollment_rate</td>\n",
              "            <td>TEXT</td>\n",
              "        </tr>\n",
              "        <tr>\n",
              "            <td>college_enrollment_number_of_students_</td>\n",
              "            <td>INTEGER</td>\n",
              "        </tr>\n",
              "        <tr>\n",
              "            <td>general_services_route_</td>\n",
              "            <td>INTEGER</td>\n",
              "        </tr>\n",
              "        <tr>\n",
              "            <td>freshman_on_track_rate</td>\n",
              "            <td>TEXT</td>\n",
              "        </tr>\n",
              "        <tr>\n",
              "            <td>rcdts_code</td>\n",
              "            <td>INTEGER</td>\n",
              "        </tr>\n",
              "        <tr>\n",
              "            <td>x_coordinate</td>\n",
              "            <td>REAL</td>\n",
              "        </tr>\n",
              "        <tr>\n",
              "            <td>y_coordinate</td>\n",
              "            <td>REAL</td>\n",
              "        </tr>\n",
              "        <tr>\n",
              "            <td>latitude</td>\n",
              "            <td>REAL</td>\n",
              "        </tr>\n",
              "        <tr>\n",
              "            <td>longitude</td>\n",
              "            <td>REAL</td>\n",
              "        </tr>\n",
              "        <tr>\n",
              "            <td>community_area_number</td>\n",
              "            <td>INTEGER</td>\n",
              "        </tr>\n",
              "        <tr>\n",
              "            <td>community_area_name</td>\n",
              "            <td>TEXT</td>\n",
              "        </tr>\n",
              "        <tr>\n",
              "            <td>ward</td>\n",
              "            <td>INTEGER</td>\n",
              "        </tr>\n",
              "        <tr>\n",
              "            <td>police_district</td>\n",
              "            <td>INTEGER</td>\n",
              "        </tr>\n",
              "        <tr>\n",
              "            <td>location</td>\n",
              "            <td>TEXT</td>\n",
              "        </tr>\n",
              "    </tbody>\n",
              "</table>"
            ]
          },
          "metadata": {},
          "execution_count": 5
        }
      ]
    },
    {
      "cell_type": "markdown",
      "source": [
        "## School Levels"
      ],
      "metadata": {
        "id": "k5NH0wTApU2B"
      }
    },
    {
      "cell_type": "markdown",
      "source": [
        "We now retrieve the number of elementary schools, middle schools, and high schools."
      ],
      "metadata": {
        "id": "YYcU3tzfpecI"
      }
    },
    {
      "cell_type": "code",
      "source": [
        "%sql SELECT COUNT(*) AS number_of_elementary_schools FROM report_card_data WHERE elementary_or_high_school = \"ES\""
      ],
      "metadata": {
        "colab": {
          "base_uri": "https://localhost:8080/",
          "height": 96
        },
        "id": "2vfYz94Llk1Y",
        "outputId": "55e04fb4-de7c-47b3-f452-2657197df649"
      },
      "execution_count": 6,
      "outputs": [
        {
          "output_type": "stream",
          "name": "stdout",
          "text": [
            " * sqlite:///ChicagoPublicSchool.db\n",
            "Done.\n"
          ]
        },
        {
          "output_type": "execute_result",
          "data": {
            "text/plain": [
              "[(462,)]"
            ],
            "text/html": [
              "<table>\n",
              "    <thead>\n",
              "        <tr>\n",
              "            <th>number_of_elementary_schools</th>\n",
              "        </tr>\n",
              "    </thead>\n",
              "    <tbody>\n",
              "        <tr>\n",
              "            <td>462</td>\n",
              "        </tr>\n",
              "    </tbody>\n",
              "</table>"
            ]
          },
          "metadata": {},
          "execution_count": 6
        }
      ]
    },
    {
      "cell_type": "code",
      "source": [
        "%sql SELECT COUNT(*) AS number_of_middle_schools FROM report_card_data WHERE elementary_or_high_school = \"MS\""
      ],
      "metadata": {
        "colab": {
          "base_uri": "https://localhost:8080/",
          "height": 96
        },
        "id": "Y5NduCRals1F",
        "outputId": "33c5bf97-3e51-4a6b-86ce-0bf0e36c76f9"
      },
      "execution_count": 7,
      "outputs": [
        {
          "output_type": "stream",
          "name": "stdout",
          "text": [
            " * sqlite:///ChicagoPublicSchool.db\n",
            "Done.\n"
          ]
        },
        {
          "output_type": "execute_result",
          "data": {
            "text/plain": [
              "[(11,)]"
            ],
            "text/html": [
              "<table>\n",
              "    <thead>\n",
              "        <tr>\n",
              "            <th>number_of_middle_schools</th>\n",
              "        </tr>\n",
              "    </thead>\n",
              "    <tbody>\n",
              "        <tr>\n",
              "            <td>11</td>\n",
              "        </tr>\n",
              "    </tbody>\n",
              "</table>"
            ]
          },
          "metadata": {},
          "execution_count": 7
        }
      ]
    },
    {
      "cell_type": "code",
      "source": [
        "%sql SELECT COUNT(*) AS number_of_high_schools FROM report_card_data WHERE elementary_or_high_school = \"HS\""
      ],
      "metadata": {
        "colab": {
          "base_uri": "https://localhost:8080/",
          "height": 96
        },
        "id": "cVR3Po1Tlyeu",
        "outputId": "55f6e395-444b-4a67-b63e-706221cb9ea1"
      },
      "execution_count": 8,
      "outputs": [
        {
          "output_type": "stream",
          "name": "stdout",
          "text": [
            " * sqlite:///ChicagoPublicSchool.db\n",
            "Done.\n"
          ]
        },
        {
          "output_type": "execute_result",
          "data": {
            "text/plain": [
              "[(93,)]"
            ],
            "text/html": [
              "<table>\n",
              "    <thead>\n",
              "        <tr>\n",
              "            <th>number_of_high_schools</th>\n",
              "        </tr>\n",
              "    </thead>\n",
              "    <tbody>\n",
              "        <tr>\n",
              "            <td>93</td>\n",
              "        </tr>\n",
              "    </tbody>\n",
              "</table>"
            ]
          },
          "metadata": {},
          "execution_count": 8
        }
      ]
    },
    {
      "cell_type": "markdown",
      "source": [
        "## Safety Score"
      ],
      "metadata": {
        "id": "vpOfr4RvpvF6"
      }
    },
    {
      "cell_type": "markdown",
      "source": [
        "Here, we retrieve some data regarding the safety score. We first retrieve the highest safety score and then the list of schools with the highest safety score."
      ],
      "metadata": {
        "id": "UVSB4Pwbpxo8"
      }
    },
    {
      "cell_type": "code",
      "source": [
        "%sql SELECT MAX(safety_score) AS highest_safety_score FROM report_card_data"
      ],
      "metadata": {
        "colab": {
          "base_uri": "https://localhost:8080/",
          "height": 96
        },
        "id": "8Msn1kZMl1zT",
        "outputId": "eb2e953e-9d31-45b9-800f-7a0358801115"
      },
      "execution_count": 9,
      "outputs": [
        {
          "output_type": "stream",
          "name": "stdout",
          "text": [
            " * sqlite:///ChicagoPublicSchool.db\n",
            "Done.\n"
          ]
        },
        {
          "output_type": "execute_result",
          "data": {
            "text/plain": [
              "[(99.0,)]"
            ],
            "text/html": [
              "<table>\n",
              "    <thead>\n",
              "        <tr>\n",
              "            <th>highest_safety_score</th>\n",
              "        </tr>\n",
              "    </thead>\n",
              "    <tbody>\n",
              "        <tr>\n",
              "            <td>99.0</td>\n",
              "        </tr>\n",
              "    </tbody>\n",
              "</table>"
            ]
          },
          "metadata": {},
          "execution_count": 9
        }
      ]
    },
    {
      "cell_type": "code",
      "source": [
        "%sql SELECT school_id, name_of_school, safety_score FROM report_card_data WHERE safety_score = (SELECT MAX(safety_score) FROM report_card_data)"
      ],
      "metadata": {
        "colab": {
          "base_uri": "https://localhost:8080/",
          "height": 481
        },
        "id": "avMaAJu4l7pv",
        "outputId": "ae2d4705-d0b2-42f4-b9d9-4b9ab94581e7"
      },
      "execution_count": 10,
      "outputs": [
        {
          "output_type": "stream",
          "name": "stdout",
          "text": [
            " * sqlite:///ChicagoPublicSchool.db\n",
            "Done.\n"
          ]
        },
        {
          "output_type": "execute_result",
          "data": {
            "text/plain": [
              "[(610038, 'Abraham Lincoln Elementary School', 99.0),\n",
              " (609799, 'Alexander Graham Bell Elementary School', 99.0),\n",
              " (610084, 'Annie Keller Elementary Gifted Magnet School', 99.0),\n",
              " (609820, 'Augustus H Burley Elementary School', 99.0),\n",
              " (610132, 'Edgar Allan Poe Elementary Classical School', 99.0),\n",
              " (609901, 'Edgebrook Elementary School', 99.0),\n",
              " (610073, 'Ellen Mitchell Elementary School', 99.0),\n",
              " (610066, 'James E McDade Elementary Classical School', 99.0),\n",
              " (609803, 'James G Blaine Elementary School', 99.0),\n",
              " (610033, 'LaSalle Elementary Language Academy', 99.0),\n",
              " (610355, 'Mary E Courtenay Elementary Language Arts Center', 99.0),\n",
              " (609749, 'Northside College Preparatory High School', 99.0),\n",
              " (609744, 'Northside Learning Center High School', 99.0),\n",
              " (610099, 'Norwood Park Elementary School', 99.0),\n",
              " (610105, 'Oriole Park Elementary School', 99.0),\n",
              " (610155, 'Sauganash Elementary School', 99.0),\n",
              " (609880, 'Stephen Decatur Classical Elementary School', 99.0),\n",
              " (610249, 'Talman Elementary School', 99.0),\n",
              " (610230, 'Wildwood Elementary School', 99.0)]"
            ],
            "text/html": [
              "<table>\n",
              "    <thead>\n",
              "        <tr>\n",
              "            <th>school_id</th>\n",
              "            <th>name_of_school</th>\n",
              "            <th>safety_score</th>\n",
              "        </tr>\n",
              "    </thead>\n",
              "    <tbody>\n",
              "        <tr>\n",
              "            <td>610038</td>\n",
              "            <td>Abraham Lincoln Elementary School</td>\n",
              "            <td>99.0</td>\n",
              "        </tr>\n",
              "        <tr>\n",
              "            <td>609799</td>\n",
              "            <td>Alexander Graham Bell Elementary School</td>\n",
              "            <td>99.0</td>\n",
              "        </tr>\n",
              "        <tr>\n",
              "            <td>610084</td>\n",
              "            <td>Annie Keller Elementary Gifted Magnet School</td>\n",
              "            <td>99.0</td>\n",
              "        </tr>\n",
              "        <tr>\n",
              "            <td>609820</td>\n",
              "            <td>Augustus H Burley Elementary School</td>\n",
              "            <td>99.0</td>\n",
              "        </tr>\n",
              "        <tr>\n",
              "            <td>610132</td>\n",
              "            <td>Edgar Allan Poe Elementary Classical School</td>\n",
              "            <td>99.0</td>\n",
              "        </tr>\n",
              "        <tr>\n",
              "            <td>609901</td>\n",
              "            <td>Edgebrook Elementary School</td>\n",
              "            <td>99.0</td>\n",
              "        </tr>\n",
              "        <tr>\n",
              "            <td>610073</td>\n",
              "            <td>Ellen Mitchell Elementary School</td>\n",
              "            <td>99.0</td>\n",
              "        </tr>\n",
              "        <tr>\n",
              "            <td>610066</td>\n",
              "            <td>James E McDade Elementary Classical School</td>\n",
              "            <td>99.0</td>\n",
              "        </tr>\n",
              "        <tr>\n",
              "            <td>609803</td>\n",
              "            <td>James G Blaine Elementary School</td>\n",
              "            <td>99.0</td>\n",
              "        </tr>\n",
              "        <tr>\n",
              "            <td>610033</td>\n",
              "            <td>LaSalle Elementary Language Academy</td>\n",
              "            <td>99.0</td>\n",
              "        </tr>\n",
              "        <tr>\n",
              "            <td>610355</td>\n",
              "            <td>Mary E Courtenay Elementary Language Arts Center</td>\n",
              "            <td>99.0</td>\n",
              "        </tr>\n",
              "        <tr>\n",
              "            <td>609749</td>\n",
              "            <td>Northside College Preparatory High School</td>\n",
              "            <td>99.0</td>\n",
              "        </tr>\n",
              "        <tr>\n",
              "            <td>609744</td>\n",
              "            <td>Northside Learning Center High School</td>\n",
              "            <td>99.0</td>\n",
              "        </tr>\n",
              "        <tr>\n",
              "            <td>610099</td>\n",
              "            <td>Norwood Park Elementary School</td>\n",
              "            <td>99.0</td>\n",
              "        </tr>\n",
              "        <tr>\n",
              "            <td>610105</td>\n",
              "            <td>Oriole Park Elementary School</td>\n",
              "            <td>99.0</td>\n",
              "        </tr>\n",
              "        <tr>\n",
              "            <td>610155</td>\n",
              "            <td>Sauganash Elementary School</td>\n",
              "            <td>99.0</td>\n",
              "        </tr>\n",
              "        <tr>\n",
              "            <td>609880</td>\n",
              "            <td>Stephen Decatur Classical Elementary School</td>\n",
              "            <td>99.0</td>\n",
              "        </tr>\n",
              "        <tr>\n",
              "            <td>610249</td>\n",
              "            <td>Talman Elementary School</td>\n",
              "            <td>99.0</td>\n",
              "        </tr>\n",
              "        <tr>\n",
              "            <td>610230</td>\n",
              "            <td>Wildwood Elementary School</td>\n",
              "            <td>99.0</td>\n",
              "        </tr>\n",
              "    </tbody>\n",
              "</table>"
            ]
          },
          "metadata": {},
          "execution_count": 10
        }
      ]
    },
    {
      "cell_type": "markdown",
      "source": [
        "## Average Student Attendance"
      ],
      "metadata": {
        "id": "ebx-K9G7qHIw"
      }
    },
    {
      "cell_type": "markdown",
      "source": [
        "Here, we retrieve some data on the average student attendance percentage. We retrieve a list of 10 schools with the highest average student attendance and a list of 10 schools with the lowest average student attendance."
      ],
      "metadata": {
        "id": "weFu3az3qMOy"
      }
    },
    {
      "cell_type": "code",
      "source": [
        "%%sql\n",
        "SELECT school_id, name_of_school, average_student_attendance\n",
        "FROM report_card_data\n",
        "ORDER BY average_student_attendance DESC NULLS LAST\n",
        "LIMIT 10"
      ],
      "metadata": {
        "colab": {
          "base_uri": "https://localhost:8080/",
          "height": 289
        },
        "id": "g1oSgrxml-Qh",
        "outputId": "d1e02094-98dc-40d8-ffd6-fa750a48c71c"
      },
      "execution_count": 11,
      "outputs": [
        {
          "output_type": "stream",
          "name": "stdout",
          "text": [
            " * sqlite:///ChicagoPublicSchool.db\n",
            "Done.\n"
          ]
        },
        {
          "output_type": "execute_result",
          "data": {
            "text/plain": [
              "[(609959, 'John Charles Haines Elementary School', 98.4),\n",
              " (610217, 'James Ward Elementary School', 97.8),\n",
              " (610132, 'Edgar Allan Poe Elementary Classical School', 97.6),\n",
              " (610329, 'Orozco Fine Arts & Sciences Elementary School', 97.6),\n",
              " (609842, 'Rachel Carson Elementary School', 97.6),\n",
              " (610084, 'Annie Keller Elementary Gifted Magnet School', 97.5),\n",
              " (610060, 'Andrew Jackson Elementary Language Academy', 97.4),\n",
              " (610298, 'Lenart Elementary Regional Gifted Center', 97.4),\n",
              " (610515, 'Disney II Magnet School', 97.3),\n",
              " (610207, 'John H Vanderpoel Elementary Magnet School', 97.2)]"
            ],
            "text/html": [
              "<table>\n",
              "    <thead>\n",
              "        <tr>\n",
              "            <th>school_id</th>\n",
              "            <th>name_of_school</th>\n",
              "            <th>average_student_attendance</th>\n",
              "        </tr>\n",
              "    </thead>\n",
              "    <tbody>\n",
              "        <tr>\n",
              "            <td>609959</td>\n",
              "            <td>John Charles Haines Elementary School</td>\n",
              "            <td>98.4</td>\n",
              "        </tr>\n",
              "        <tr>\n",
              "            <td>610217</td>\n",
              "            <td>James Ward Elementary School</td>\n",
              "            <td>97.8</td>\n",
              "        </tr>\n",
              "        <tr>\n",
              "            <td>610132</td>\n",
              "            <td>Edgar Allan Poe Elementary Classical School</td>\n",
              "            <td>97.6</td>\n",
              "        </tr>\n",
              "        <tr>\n",
              "            <td>610329</td>\n",
              "            <td>Orozco Fine Arts &amp; Sciences Elementary School</td>\n",
              "            <td>97.6</td>\n",
              "        </tr>\n",
              "        <tr>\n",
              "            <td>609842</td>\n",
              "            <td>Rachel Carson Elementary School</td>\n",
              "            <td>97.6</td>\n",
              "        </tr>\n",
              "        <tr>\n",
              "            <td>610084</td>\n",
              "            <td>Annie Keller Elementary Gifted Magnet School</td>\n",
              "            <td>97.5</td>\n",
              "        </tr>\n",
              "        <tr>\n",
              "            <td>610060</td>\n",
              "            <td>Andrew Jackson Elementary Language Academy</td>\n",
              "            <td>97.4</td>\n",
              "        </tr>\n",
              "        <tr>\n",
              "            <td>610298</td>\n",
              "            <td>Lenart Elementary Regional Gifted Center</td>\n",
              "            <td>97.4</td>\n",
              "        </tr>\n",
              "        <tr>\n",
              "            <td>610515</td>\n",
              "            <td>Disney II Magnet School</td>\n",
              "            <td>97.3</td>\n",
              "        </tr>\n",
              "        <tr>\n",
              "            <td>610207</td>\n",
              "            <td>John H Vanderpoel Elementary Magnet School</td>\n",
              "            <td>97.2</td>\n",
              "        </tr>\n",
              "    </tbody>\n",
              "</table>"
            ]
          },
          "metadata": {},
          "execution_count": 11
        }
      ]
    },
    {
      "cell_type": "code",
      "source": [
        "%%sql\n",
        "SELECT school_id, name_of_school, average_student_attendance\n",
        "FROM report_card_data\n",
        "ORDER BY average_student_attendance NULLS LAST\n",
        "LIMIT 10"
      ],
      "metadata": {
        "colab": {
          "base_uri": "https://localhost:8080/",
          "height": 289
        },
        "id": "6_FDMc-NmOXb",
        "outputId": "a9c6b479-afb2-4c3c-e7fd-77de9227f408"
      },
      "execution_count": 12,
      "outputs": [
        {
          "output_type": "stream",
          "name": "stdout",
          "text": [
            " * sqlite:///ChicagoPublicSchool.db\n",
            "Done.\n"
          ]
        },
        {
          "output_type": "execute_result",
          "data": {
            "text/plain": [
              "[(609702, 'Richard T Crane Technical Preparatory High School', 57.9),\n",
              " (609871, 'Barbara Vick Early Childhood & Family Center', 60.9),\n",
              " (609736, 'Dyett High School', 62.5),\n",
              " (609727, 'Wendell Phillips Academy High School', 63.0),\n",
              " (610389, 'Orr Academy High School', 66.3),\n",
              " (609722, 'Manley Career Academy High School', 66.8),\n",
              " (609674, 'Chicago Vocational Career Academy High School', 68.8),\n",
              " (609759, 'Roberto Clemente Community Academy High School', 69.6),\n",
              " (610501, 'Austin Polytechnical Academy High School', 70.1),\n",
              " (609713, 'Hyde Park Academy High School', 70.5)]"
            ],
            "text/html": [
              "<table>\n",
              "    <thead>\n",
              "        <tr>\n",
              "            <th>school_id</th>\n",
              "            <th>name_of_school</th>\n",
              "            <th>average_student_attendance</th>\n",
              "        </tr>\n",
              "    </thead>\n",
              "    <tbody>\n",
              "        <tr>\n",
              "            <td>609702</td>\n",
              "            <td>Richard T Crane Technical Preparatory High School</td>\n",
              "            <td>57.9</td>\n",
              "        </tr>\n",
              "        <tr>\n",
              "            <td>609871</td>\n",
              "            <td>Barbara Vick Early Childhood &amp; Family Center</td>\n",
              "            <td>60.9</td>\n",
              "        </tr>\n",
              "        <tr>\n",
              "            <td>609736</td>\n",
              "            <td>Dyett High School</td>\n",
              "            <td>62.5</td>\n",
              "        </tr>\n",
              "        <tr>\n",
              "            <td>609727</td>\n",
              "            <td>Wendell Phillips Academy High School</td>\n",
              "            <td>63.0</td>\n",
              "        </tr>\n",
              "        <tr>\n",
              "            <td>610389</td>\n",
              "            <td>Orr Academy High School</td>\n",
              "            <td>66.3</td>\n",
              "        </tr>\n",
              "        <tr>\n",
              "            <td>609722</td>\n",
              "            <td>Manley Career Academy High School</td>\n",
              "            <td>66.8</td>\n",
              "        </tr>\n",
              "        <tr>\n",
              "            <td>609674</td>\n",
              "            <td>Chicago Vocational Career Academy High School</td>\n",
              "            <td>68.8</td>\n",
              "        </tr>\n",
              "        <tr>\n",
              "            <td>609759</td>\n",
              "            <td>Roberto Clemente Community Academy High School</td>\n",
              "            <td>69.6</td>\n",
              "        </tr>\n",
              "        <tr>\n",
              "            <td>610501</td>\n",
              "            <td>Austin Polytechnical Academy High School</td>\n",
              "            <td>70.1</td>\n",
              "        </tr>\n",
              "        <tr>\n",
              "            <td>609713</td>\n",
              "            <td>Hyde Park Academy High School</td>\n",
              "            <td>70.5</td>\n",
              "        </tr>\n",
              "    </tbody>\n",
              "</table>"
            ]
          },
          "metadata": {},
          "execution_count": 12
        }
      ]
    },
    {
      "cell_type": "markdown",
      "source": [
        "## College enrollment"
      ],
      "metadata": {
        "id": "FMM052PVqoEH"
      }
    },
    {
      "cell_type": "markdown",
      "source": [
        "Finally, we retrieve a list of total college enrollment of each community area."
      ],
      "metadata": {
        "id": "zwwU3ehiq4Xi"
      }
    },
    {
      "cell_type": "code",
      "source": [
        "%%sql\n",
        "SELECT community_area_name, SUM(college_enrollment_number_of_students_) AS total_college_enrollment\n",
        "FROM report_card_data\n",
        "GROUP BY community_area_name"
      ],
      "metadata": {
        "colab": {
          "base_uri": "https://localhost:8080/",
          "height": 1000
        },
        "id": "5vY5q94wmQyg",
        "outputId": "c4339dc4-1aff-415b-9933-ef7dbe5a4914"
      },
      "execution_count": 13,
      "outputs": [
        {
          "output_type": "stream",
          "name": "stdout",
          "text": [
            " * sqlite:///ChicagoPublicSchool.db\n",
            "Done.\n"
          ]
        },
        {
          "output_type": "execute_result",
          "data": {
            "text/plain": [
              "[('ALBANY PARK', 6864),\n",
              " ('ARCHER HEIGHTS', 4823),\n",
              " ('ARMOUR SQUARE', 1458),\n",
              " ('ASHBURN', 6483),\n",
              " ('AUBURN GRESHAM', 4175),\n",
              " ('AUSTIN', 10933),\n",
              " ('AVALON PARK', 1522),\n",
              " ('AVONDALE', 3640),\n",
              " ('BELMONT CRAGIN', 14386),\n",
              " ('BEVERLY', 1636),\n",
              " ('BRIDGEPORT', 3167),\n",
              " ('BRIGHTON PARK', 9647),\n",
              " ('BURNSIDE', 549),\n",
              " ('CALUMET HEIGHTS', 1568),\n",
              " ('CHATHAM', 5042),\n",
              " ('CHICAGO LAWN', 7086),\n",
              " ('CLEARING', 2085),\n",
              " ('DOUGLAS', 4670),\n",
              " ('DUNNING', 4568),\n",
              " ('EAST GARFIELD PARK', 5337),\n",
              " ('EAST SIDE', 5305),\n",
              " ('EDGEWATER', 4600),\n",
              " ('EDISON PARK', 910),\n",
              " ('ENGLEWOOD', 6832),\n",
              " ('FOREST GLEN', 1431),\n",
              " ('FULLER PARK', 531),\n",
              " ('GAGE PARK', 9915),\n",
              " ('GARFIELD RIDGE', 4552),\n",
              " ('GRAND BOULEVARD', 2809),\n",
              " ('GREATER GRAND CROSSING', 4051),\n",
              " ('HEGEWISCH', 963),\n",
              " ('HERMOSA', 3975),\n",
              " ('HUMBOLDT PARK', 8620),\n",
              " ('HYDE PARK', 1930),\n",
              " ('IRVING PARK', 7764),\n",
              " ('JEFFERSON PARK', 1755),\n",
              " ('KENWOOD', 4287),\n",
              " ('LAKE VIEW', 7055),\n",
              " ('LINCOLN PARK', 5615),\n",
              " ('LINCOLN SQUARE', 4132),\n",
              " ('LOGAN SQUARE', 7351),\n",
              " ('LOOP', 871),\n",
              " ('LOWER WEST SIDE', 7257),\n",
              " ('MCKINLEY PARK', 1552),\n",
              " ('MONTCLARE', 1317),\n",
              " ('MORGAN PARK', 3271),\n",
              " ('MOUNT GREENWOOD', 2091),\n",
              " ('NEAR NORTH SIDE', 3362),\n",
              " ('NEAR SOUTH SIDE', 1378),\n",
              " ('NEAR WEST SIDE', 7975),\n",
              " ('NEW CITY', 7922),\n",
              " ('NORTH CENTER', 7541),\n",
              " ('NORTH LAWNDALE', 5146),\n",
              " ('NORTH PARK', 4210),\n",
              " ('NORWOOD PARK', 6469),\n",
              " ('OAKLAND', 140),\n",
              " ('OHARE', 786),\n",
              " ('PORTAGE PARK', 6954),\n",
              " ('PULLMAN', 1620),\n",
              " ('RIVERDALE', 1547),\n",
              " ('ROGERS PARK', 4068),\n",
              " ('ROSELAND', 7020),\n",
              " ('SOUTH CHICAGO', 4043),\n",
              " ('SOUTH DEERING', 1859),\n",
              " ('SOUTH LAWNDALE', 14793),\n",
              " ('SOUTH SHORE', 4543),\n",
              " ('UPTOWN', 4388),\n",
              " ('WASHINGTON HEIGHTS', 4006),\n",
              " ('WASHINGTON PARK', 2648),\n",
              " ('WEST ELSDON', 3700),\n",
              " ('WEST ENGLEWOOD', 5946),\n",
              " ('WEST GARFIELD PARK', 2622),\n",
              " ('WEST LAWN', 4207),\n",
              " ('WEST PULLMAN', 3240),\n",
              " ('WEST RIDGE', 8197),\n",
              " ('WEST TOWN', 9429),\n",
              " ('WOODLAWN', 4206)]"
            ],
            "text/html": [
              "<table>\n",
              "    <thead>\n",
              "        <tr>\n",
              "            <th>community_area_name</th>\n",
              "            <th>total_college_enrollment</th>\n",
              "        </tr>\n",
              "    </thead>\n",
              "    <tbody>\n",
              "        <tr>\n",
              "            <td>ALBANY PARK</td>\n",
              "            <td>6864</td>\n",
              "        </tr>\n",
              "        <tr>\n",
              "            <td>ARCHER HEIGHTS</td>\n",
              "            <td>4823</td>\n",
              "        </tr>\n",
              "        <tr>\n",
              "            <td>ARMOUR SQUARE</td>\n",
              "            <td>1458</td>\n",
              "        </tr>\n",
              "        <tr>\n",
              "            <td>ASHBURN</td>\n",
              "            <td>6483</td>\n",
              "        </tr>\n",
              "        <tr>\n",
              "            <td>AUBURN GRESHAM</td>\n",
              "            <td>4175</td>\n",
              "        </tr>\n",
              "        <tr>\n",
              "            <td>AUSTIN</td>\n",
              "            <td>10933</td>\n",
              "        </tr>\n",
              "        <tr>\n",
              "            <td>AVALON PARK</td>\n",
              "            <td>1522</td>\n",
              "        </tr>\n",
              "        <tr>\n",
              "            <td>AVONDALE</td>\n",
              "            <td>3640</td>\n",
              "        </tr>\n",
              "        <tr>\n",
              "            <td>BELMONT CRAGIN</td>\n",
              "            <td>14386</td>\n",
              "        </tr>\n",
              "        <tr>\n",
              "            <td>BEVERLY</td>\n",
              "            <td>1636</td>\n",
              "        </tr>\n",
              "        <tr>\n",
              "            <td>BRIDGEPORT</td>\n",
              "            <td>3167</td>\n",
              "        </tr>\n",
              "        <tr>\n",
              "            <td>BRIGHTON PARK</td>\n",
              "            <td>9647</td>\n",
              "        </tr>\n",
              "        <tr>\n",
              "            <td>BURNSIDE</td>\n",
              "            <td>549</td>\n",
              "        </tr>\n",
              "        <tr>\n",
              "            <td>CALUMET HEIGHTS</td>\n",
              "            <td>1568</td>\n",
              "        </tr>\n",
              "        <tr>\n",
              "            <td>CHATHAM</td>\n",
              "            <td>5042</td>\n",
              "        </tr>\n",
              "        <tr>\n",
              "            <td>CHICAGO LAWN</td>\n",
              "            <td>7086</td>\n",
              "        </tr>\n",
              "        <tr>\n",
              "            <td>CLEARING</td>\n",
              "            <td>2085</td>\n",
              "        </tr>\n",
              "        <tr>\n",
              "            <td>DOUGLAS</td>\n",
              "            <td>4670</td>\n",
              "        </tr>\n",
              "        <tr>\n",
              "            <td>DUNNING</td>\n",
              "            <td>4568</td>\n",
              "        </tr>\n",
              "        <tr>\n",
              "            <td>EAST GARFIELD PARK</td>\n",
              "            <td>5337</td>\n",
              "        </tr>\n",
              "        <tr>\n",
              "            <td>EAST SIDE</td>\n",
              "            <td>5305</td>\n",
              "        </tr>\n",
              "        <tr>\n",
              "            <td>EDGEWATER</td>\n",
              "            <td>4600</td>\n",
              "        </tr>\n",
              "        <tr>\n",
              "            <td>EDISON PARK</td>\n",
              "            <td>910</td>\n",
              "        </tr>\n",
              "        <tr>\n",
              "            <td>ENGLEWOOD</td>\n",
              "            <td>6832</td>\n",
              "        </tr>\n",
              "        <tr>\n",
              "            <td>FOREST GLEN</td>\n",
              "            <td>1431</td>\n",
              "        </tr>\n",
              "        <tr>\n",
              "            <td>FULLER PARK</td>\n",
              "            <td>531</td>\n",
              "        </tr>\n",
              "        <tr>\n",
              "            <td>GAGE PARK</td>\n",
              "            <td>9915</td>\n",
              "        </tr>\n",
              "        <tr>\n",
              "            <td>GARFIELD RIDGE</td>\n",
              "            <td>4552</td>\n",
              "        </tr>\n",
              "        <tr>\n",
              "            <td>GRAND BOULEVARD</td>\n",
              "            <td>2809</td>\n",
              "        </tr>\n",
              "        <tr>\n",
              "            <td>GREATER GRAND CROSSING</td>\n",
              "            <td>4051</td>\n",
              "        </tr>\n",
              "        <tr>\n",
              "            <td>HEGEWISCH</td>\n",
              "            <td>963</td>\n",
              "        </tr>\n",
              "        <tr>\n",
              "            <td>HERMOSA</td>\n",
              "            <td>3975</td>\n",
              "        </tr>\n",
              "        <tr>\n",
              "            <td>HUMBOLDT PARK</td>\n",
              "            <td>8620</td>\n",
              "        </tr>\n",
              "        <tr>\n",
              "            <td>HYDE PARK</td>\n",
              "            <td>1930</td>\n",
              "        </tr>\n",
              "        <tr>\n",
              "            <td>IRVING PARK</td>\n",
              "            <td>7764</td>\n",
              "        </tr>\n",
              "        <tr>\n",
              "            <td>JEFFERSON PARK</td>\n",
              "            <td>1755</td>\n",
              "        </tr>\n",
              "        <tr>\n",
              "            <td>KENWOOD</td>\n",
              "            <td>4287</td>\n",
              "        </tr>\n",
              "        <tr>\n",
              "            <td>LAKE VIEW</td>\n",
              "            <td>7055</td>\n",
              "        </tr>\n",
              "        <tr>\n",
              "            <td>LINCOLN PARK</td>\n",
              "            <td>5615</td>\n",
              "        </tr>\n",
              "        <tr>\n",
              "            <td>LINCOLN SQUARE</td>\n",
              "            <td>4132</td>\n",
              "        </tr>\n",
              "        <tr>\n",
              "            <td>LOGAN SQUARE</td>\n",
              "            <td>7351</td>\n",
              "        </tr>\n",
              "        <tr>\n",
              "            <td>LOOP</td>\n",
              "            <td>871</td>\n",
              "        </tr>\n",
              "        <tr>\n",
              "            <td>LOWER WEST SIDE</td>\n",
              "            <td>7257</td>\n",
              "        </tr>\n",
              "        <tr>\n",
              "            <td>MCKINLEY PARK</td>\n",
              "            <td>1552</td>\n",
              "        </tr>\n",
              "        <tr>\n",
              "            <td>MONTCLARE</td>\n",
              "            <td>1317</td>\n",
              "        </tr>\n",
              "        <tr>\n",
              "            <td>MORGAN PARK</td>\n",
              "            <td>3271</td>\n",
              "        </tr>\n",
              "        <tr>\n",
              "            <td>MOUNT GREENWOOD</td>\n",
              "            <td>2091</td>\n",
              "        </tr>\n",
              "        <tr>\n",
              "            <td>NEAR NORTH SIDE</td>\n",
              "            <td>3362</td>\n",
              "        </tr>\n",
              "        <tr>\n",
              "            <td>NEAR SOUTH SIDE</td>\n",
              "            <td>1378</td>\n",
              "        </tr>\n",
              "        <tr>\n",
              "            <td>NEAR WEST SIDE</td>\n",
              "            <td>7975</td>\n",
              "        </tr>\n",
              "        <tr>\n",
              "            <td>NEW CITY</td>\n",
              "            <td>7922</td>\n",
              "        </tr>\n",
              "        <tr>\n",
              "            <td>NORTH CENTER</td>\n",
              "            <td>7541</td>\n",
              "        </tr>\n",
              "        <tr>\n",
              "            <td>NORTH LAWNDALE</td>\n",
              "            <td>5146</td>\n",
              "        </tr>\n",
              "        <tr>\n",
              "            <td>NORTH PARK</td>\n",
              "            <td>4210</td>\n",
              "        </tr>\n",
              "        <tr>\n",
              "            <td>NORWOOD PARK</td>\n",
              "            <td>6469</td>\n",
              "        </tr>\n",
              "        <tr>\n",
              "            <td>OAKLAND</td>\n",
              "            <td>140</td>\n",
              "        </tr>\n",
              "        <tr>\n",
              "            <td>OHARE</td>\n",
              "            <td>786</td>\n",
              "        </tr>\n",
              "        <tr>\n",
              "            <td>PORTAGE PARK</td>\n",
              "            <td>6954</td>\n",
              "        </tr>\n",
              "        <tr>\n",
              "            <td>PULLMAN</td>\n",
              "            <td>1620</td>\n",
              "        </tr>\n",
              "        <tr>\n",
              "            <td>RIVERDALE</td>\n",
              "            <td>1547</td>\n",
              "        </tr>\n",
              "        <tr>\n",
              "            <td>ROGERS PARK</td>\n",
              "            <td>4068</td>\n",
              "        </tr>\n",
              "        <tr>\n",
              "            <td>ROSELAND</td>\n",
              "            <td>7020</td>\n",
              "        </tr>\n",
              "        <tr>\n",
              "            <td>SOUTH CHICAGO</td>\n",
              "            <td>4043</td>\n",
              "        </tr>\n",
              "        <tr>\n",
              "            <td>SOUTH DEERING</td>\n",
              "            <td>1859</td>\n",
              "        </tr>\n",
              "        <tr>\n",
              "            <td>SOUTH LAWNDALE</td>\n",
              "            <td>14793</td>\n",
              "        </tr>\n",
              "        <tr>\n",
              "            <td>SOUTH SHORE</td>\n",
              "            <td>4543</td>\n",
              "        </tr>\n",
              "        <tr>\n",
              "            <td>UPTOWN</td>\n",
              "            <td>4388</td>\n",
              "        </tr>\n",
              "        <tr>\n",
              "            <td>WASHINGTON HEIGHTS</td>\n",
              "            <td>4006</td>\n",
              "        </tr>\n",
              "        <tr>\n",
              "            <td>WASHINGTON PARK</td>\n",
              "            <td>2648</td>\n",
              "        </tr>\n",
              "        <tr>\n",
              "            <td>WEST ELSDON</td>\n",
              "            <td>3700</td>\n",
              "        </tr>\n",
              "        <tr>\n",
              "            <td>WEST ENGLEWOOD</td>\n",
              "            <td>5946</td>\n",
              "        </tr>\n",
              "        <tr>\n",
              "            <td>WEST GARFIELD PARK</td>\n",
              "            <td>2622</td>\n",
              "        </tr>\n",
              "        <tr>\n",
              "            <td>WEST LAWN</td>\n",
              "            <td>4207</td>\n",
              "        </tr>\n",
              "        <tr>\n",
              "            <td>WEST PULLMAN</td>\n",
              "            <td>3240</td>\n",
              "        </tr>\n",
              "        <tr>\n",
              "            <td>WEST RIDGE</td>\n",
              "            <td>8197</td>\n",
              "        </tr>\n",
              "        <tr>\n",
              "            <td>WEST TOWN</td>\n",
              "            <td>9429</td>\n",
              "        </tr>\n",
              "        <tr>\n",
              "            <td>WOODLAWN</td>\n",
              "            <td>4206</td>\n",
              "        </tr>\n",
              "    </tbody>\n",
              "</table>"
            ]
          },
          "metadata": {},
          "execution_count": 13
        }
      ]
    }
  ]
}